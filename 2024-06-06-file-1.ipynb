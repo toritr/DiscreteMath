{
 "metadata": {
  "kernelspec": {
   "display_name": "SageMath",
   "language": "python",
   "name": "sagemath"
  },
  "language_info": {
   "codemirror_mode": {
    "name": "ipython",
    "version": 2
   },
   "file_extension": ".py",
   "mimetype": "text/x-python",
   "name": "python",
   "nbconvert_exporter": "python",
   "pygments_lexer": "ipython2",
   "version": "2.7.12+"
  }
 },
 "nbformat": 4,
 "nbformat_minor": 4,
 "cells": [
  {
   "metadata": {
    "collapsed": false
   },
   "cell_type": "code",
   "source": [
    "# set A and n\n",
    "A = {0, 1, 2, 5, 6, 9}\n",
    "n = len(A)\n",
    "\n",
    "#P1 \n",
    "C_10_n = binomial(10, n)\n",
    "print(\"P1: \", C_10_n)\n",
    "\n",
    "#P2\n",
    "C_30_15 = binomial(30, 15)\n",
    "print(\"P2: \", C_30_15)\n",
    "\n",
    "#P3\n",
    "from itertools import permutations\n",
    "all_permutations = list(permutations(A))\n",
    "print(\"P3: \", all_permutations)"
   ]
  },
  {
   "metadata": {
    "collapsed": false
   },
   "cell_type": "code",
   "source": [
    ""
   ]
  }
 ]
}