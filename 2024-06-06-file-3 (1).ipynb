{
 "cells": [
  {
   "cell_type": "code",
   "execution_count": 3,
   "metadata": {
    "collapsed": false
   },
   "outputs": [
    {
     "name": "stdout",
     "output_type": "stream",
     "text": [
      "a      b      value\n",
      "False  False  False  \n",
      "False  True   False  \n",
      "True   False  False  \n",
      "True   True   True   \n",
      "\n"
     ]
    },
    {
     "data": {
      "text/plain": [
       "False"
      ]
     },
     "execution_count": 3,
     "metadata": {
     },
     "output_type": "execute_result"
    }
   ],
   "source": [
    "#P1\n",
    "A = propcalc.formula('a&b')\n",
    "t1 = A.truthtable()\n",
    "print(t1)\n",
    "A.is_tautology()"
   ]
  },
  {
   "cell_type": "code",
   "execution_count": 4,
   "metadata": {
    "collapsed": false
   },
   "outputs": [
    {
     "name": "stdout",
     "output_type": "stream",
     "text": [
      "a      b      value\n",
      "False  False  False  \n",
      "False  True   True   \n",
      "True   False  True   \n",
      "True   True   True   \n",
      "\n"
     ]
    },
    {
     "data": {
      "text/plain": [
       "False"
      ]
     },
     "execution_count": 4,
     "metadata": {
     },
     "output_type": "execute_result"
    }
   ],
   "source": [
    "#P2\n",
    "B = propcalc.formula('a|b')\n",
    "t2 = B.truthtable()\n",
    "print(t2)\n",
    "B.is_tautology()"
   ]
  },
  {
   "cell_type": "code",
   "execution_count": 5,
   "metadata": {
    "collapsed": false
   },
   "outputs": [
    {
     "name": "stdout",
     "output_type": "stream",
     "text": [
      "a      b      value\n",
      "False  False  True   \n",
      "False  True   False  \n",
      "True   False  True   \n",
      "True   True   True   \n",
      "\n"
     ]
    },
    {
     "data": {
      "text/plain": [
       "False"
      ]
     },
     "execution_count": 5,
     "metadata": {
     },
     "output_type": "execute_result"
    }
   ],
   "source": [
    "#P3\n",
    "C = propcalc.formula('a | ~b')\n",
    "t3 = C.truthtable()\n",
    "print(t3)\n",
    "C.is_tautology()"
   ]
  },
  {
   "cell_type": "code",
   "execution_count": 6,
   "metadata": {
    "collapsed": false
   },
   "outputs": [
    {
     "name": "stdout",
     "output_type": "stream",
     "text": [
      "a      b      value\n",
      "False  False  True   \n",
      "False  True   True   \n",
      "True   False  True   \n",
      "True   True   False  \n",
      "\n"
     ]
    },
    {
     "data": {
      "text/plain": [
       "False"
      ]
     },
     "execution_count": 6,
     "metadata": {
     },
     "output_type": "execute_result"
    }
   ],
   "source": [
    "#P4\n",
    "D = propcalc.formula('a -> ~b')\n",
    "t4 = D.truthtable()\n",
    "print(t4)\n",
    "D.is_tautology()"
   ]
  },
  {
   "cell_type": "code",
   "execution_count": 7,
   "metadata": {
    "collapsed": false
   },
   "outputs": [
    {
     "name": "stdout",
     "output_type": "stream",
     "text": [
      "a      c      b      value\n",
      "False  False  False  True   \n",
      "False  False  True   True   \n",
      "False  True   False  True   \n",
      "False  True   True   True   \n",
      "True   False  False  True   \n",
      "True   False  True   True   \n",
      "True   True   False  True   \n",
      "True   True   True   True   \n",
      "\n"
     ]
    },
    {
     "data": {
      "text/plain": [
       "True"
      ]
     },
     "execution_count": 7,
     "metadata": {
     },
     "output_type": "execute_result"
    }
   ],
   "source": [
    "#P5\n",
    "E = propcalc.formula('(a & c) -> ((~a | ~b) -> c)')\n",
    "t5 = E.truthtable()\n",
    "print(t5)\n",
    "E.is_tautology()"
   ]
  },
  {
   "cell_type": "code",
   "execution_count": 8,
   "metadata": {
    "collapsed": false
   },
   "outputs": [
    {
     "name": "stdout",
     "output_type": "stream",
     "text": [
      "a      b      value\n",
      "False  False  True   \n",
      "False  True   True   \n",
      "True   False  True   \n",
      "True   True   True   \n",
      "\n"
     ]
    },
    {
     "data": {
      "text/plain": [
       "True"
      ]
     },
     "execution_count": 8,
     "metadata": {
     },
     "output_type": "execute_result"
    }
   ],
   "source": [
    "#P6\n",
    "F = propcalc.formula('~(a | b) <-> (~a & ~b)')\n",
    "t6 = F.truthtable()\n",
    "print(t6)\n",
    "F.is_tautology()"
   ]
  },
  {
   "cell_type": "code",
   "execution_count": 0,
   "metadata": {
    "collapsed": false
   },
   "outputs": [
   ],
   "source": [
   ]
  }
 ],
 "metadata": {
  "kernelspec": {
   "argv": [
    "sage-10.3",
    "--python",
    "-m",
    "sage.repl.ipython_kernel",
    "--matplotlib=inline",
    "-f",
    "{connection_file}"
   ],
   "display_name": "SageMath 10.3",
   "env": {
   },
   "language": "sagemath",
   "metadata": {
    "cocalc": {
     "description": "Open-source mathematical software system",
     "priority": 10,
     "url": "https://www.sagemath.org/"
    }
   },
   "name": "sage-10.3",
   "resource_dir": "/ext/jupyter/kernels/sage-10.3"
  },
  "language_info": {
   "codemirror_mode": {
    "name": "ipython",
    "version": 3
   },
   "file_extension": ".py",
   "mimetype": "text/x-python",
   "name": "python",
   "nbconvert_exporter": "python",
   "pygments_lexer": "ipython3",
   "version": "3.11.1"
  }
 },
 "nbformat": 4,
 "nbformat_minor": 4
}