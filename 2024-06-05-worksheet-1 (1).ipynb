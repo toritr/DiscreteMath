{
 "cells": [
  {
   "cell_type": "code",
   "execution_count": 3,
   "metadata": {
    "collapsed": false
   },
   "outputs": [
    {
     "name": "stdout",
     "output_type": "stream",
     "text": [
      "Set Theory Sage Notebook - Viktoriia Drozdovska\n"
     ]
    }
   ],
   "source": [
    "print('Set Theory Sage Notebook - Viktoriia Drozdovska')"
   ]
  },
  {
   "cell_type": "code",
   "execution_count": 4,
   "metadata": {
    "collapsed": false
   },
   "outputs": [
    {
     "name": "stdout",
     "output_type": "stream",
     "text": [
      "{0, 1, 2, 5}\n"
     ]
    }
   ],
   "source": [
    "#P1 intersection\n",
    "A = Set([0, 1, 2, 5, 6, 9])\n",
    "B = Set(['a', 'e', 'i', 'o', 'u', 0, 1, 2, 3, 4, 5])\n",
    "intersection_AB = A.intersection(B)\n",
    "print(intersection_AB)"
   ]
  },
  {
   "cell_type": "code",
   "execution_count": 5,
   "metadata": {
    "collapsed": false
   },
   "outputs": [
    {
     "name": "stdout",
     "output_type": "stream",
     "text": [
      "{0, 1, 2, 'e', 'i', 5, 6, 3, 4, 9, 'u', 'a', 'o'}\n"
     ]
    }
   ],
   "source": [
    "#P2 union\n",
    "A = Set([0, 1, 2, 5, 6, 9])\n",
    "B = Set(['a', 'e', 'i', 'o', 'u', 0, 1, 2, 3, 4, 5])\n",
    "union_AB = A.union(B)\n",
    "print(union_AB)"
   ]
  },
  {
   "cell_type": "code",
   "execution_count": 6,
   "metadata": {
    "collapsed": false
   },
   "outputs": [
    {
     "data": {
      "text/plain": [
       "6"
      ]
     },
     "execution_count": 6,
     "metadata": {
     },
     "output_type": "execute_result"
    }
   ],
   "source": [
    "#P3 cardinality A\n",
    "A = Set([0, 1, 2, 5, 6, 9])\n",
    "A.cardinality()"
   ]
  },
  {
   "cell_type": "code",
   "execution_count": 7,
   "metadata": {
    "collapsed": false
   },
   "outputs": [
    {
     "data": {
      "text/plain": [
       "{(0, 'a'),\n",
       " (0, 'e'),\n",
       " (0, 'i'),\n",
       " (0, 'o'),\n",
       " (0, 'u'),\n",
       " (0, 0),\n",
       " (0, 1),\n",
       " (0, 2),\n",
       " (0, 3),\n",
       " (0, 4),\n",
       " (0, 5),\n",
       " (1, 'a'),\n",
       " (1, 'e'),\n",
       " (1, 'i'),\n",
       " (1, 'o'),\n",
       " (1, 'u'),\n",
       " (1, 0),\n",
       " (1, 1),\n",
       " (1, 2),\n",
       " (1, 3),\n",
       " (1, 4),\n",
       " (1, 5),\n",
       " (2, 'a'),\n",
       " (2, 'e'),\n",
       " (2, 'i'),\n",
       " (2, 'o'),\n",
       " (2, 'u'),\n",
       " (2, 0),\n",
       " (2, 1),\n",
       " (2, 2),\n",
       " (2, 3),\n",
       " (2, 4),\n",
       " (2, 5),\n",
       " (5, 'a'),\n",
       " (5, 'e'),\n",
       " (5, 'i'),\n",
       " (5, 'o'),\n",
       " (5, 'u'),\n",
       " (5, 0),\n",
       " (5, 1),\n",
       " (5, 2),\n",
       " (5, 3),\n",
       " (5, 4),\n",
       " (5, 5),\n",
       " (6, 'a'),\n",
       " (6, 'e'),\n",
       " (6, 'i'),\n",
       " (6, 'o'),\n",
       " (6, 'u'),\n",
       " (6, 0),\n",
       " (6, 1),\n",
       " (6, 2),\n",
       " (6, 3),\n",
       " (6, 4),\n",
       " (6, 5),\n",
       " (9, 'a'),\n",
       " (9, 'e'),\n",
       " (9, 'i'),\n",
       " (9, 'o'),\n",
       " (9, 'u'),\n",
       " (9, 0),\n",
       " (9, 1),\n",
       " (9, 2),\n",
       " (9, 3),\n",
       " (9, 4),\n",
       " (9, 5)}"
      ]
     },
     "execution_count": 7,
     "metadata": {
     },
     "output_type": "execute_result"
    }
   ],
   "source": [
    "#P4 cartesian_product\n",
    "A = Set([0, 1, 2, 5, 6, 9])\n",
    "B = Set(['a', 'e', 'i', 'o', 'u', 0, 1, 2, 3, 4, 5])\n",
    "C = cartesian_product([A,B])\n",
    "set(C)"
   ]
  },
  {
   "cell_type": "code",
   "execution_count": 8,
   "metadata": {
    "collapsed": false
   },
   "outputs": [
    {
     "name": "stdout",
     "output_type": "stream",
     "text": [
      "36\n"
     ]
    }
   ],
   "source": [
    "#P5 cardinality of the cartesian product of A with itself\n",
    "cardinality = len(list(A.cartesian_product(A)))\n",
    "print(cardinality)"
   ]
  },
  {
   "cell_type": "code",
   "execution_count": 9,
   "metadata": {
    "collapsed": false
   },
   "outputs": [
    {
     "name": "stdout",
     "output_type": "stream",
     "text": [
      "{{1, 6}, {0, 1, 2, 5}, {0, 2, 5, 9}, {2, 6, 9}, {1, 9}, {0, 1, 6}, {0, 1}, {0, 1, 9}, {0, 5, 6}, {1, 2, 6}, {0, 5, 9}, {0, 1, 5, 6}, {1, 2, 9}, {5, 6}, {0, 1, 5, 9}, {1, 2, 5, 6, 9}, {2}, {0, 5, 6, 9}, {5, 9}, {5}, {5, 6, 9}, {1, 2}, {1, 5}, {0, 1, 2, 5, 6}, {0, 1, 2}, {0, 1, 2, 5, 9}, {1, 2, 6, 9}, {1, 6, 9}, {0, 1, 5}, EmptySet, {2, 5, 6}, {0, 6}, {2, 5, 9}, {0, 9}, {2, 6}, {0, 2, 6, 9}, {1, 2, 5}, {1, 5, 6, 9}, {2, 9}, {0, 2, 6}, {1}, {0, 2, 9}, {6, 9}, {0, 1, 2, 9}, {0, 1, 2, 6}, {1, 2, 5, 6}, {0, 1, 2, 5, 6, 9}, {2, 5, 6, 9}, {1, 2, 5, 9}, {0, 1, 5, 6, 9}, {0, 2}, {0, 2, 5, 6, 9}, {2, 5}, {0, 5}, {0, 6, 9}, {0, 1, 6, 9}, {0, 2, 5}, {0}, {1, 5, 9}, {0, 1, 2, 6, 9}, {1, 5, 6}, {6}, {9}, {0, 2, 5, 6}}\n"
     ]
    }
   ],
   "source": [
    "#P6 powerset A\n",
    "from sympy import FiniteSet\n",
    "\n",
    "A = FiniteSet(0, 1, 2, 5, 6, 9)\n",
    "A_powerset = A.powerset()\n",
    "\n",
    "print(set(A_powerset))"
   ]
  },
  {
   "cell_type": "code",
   "execution_count": 7,
   "metadata": {
    "collapsed": false
   },
   "outputs": [
   ],
   "source": [
    "#P7 powerset B\n",
    "from sympy import FiniteSet\n",
    "\n",
    "B = FiniteSet('a', 'e', 'i', 'o', 'u', 0, 1, 2, 3, 4, 5)\n",
    "B_powerset = B.powerset()\n",
    "\n",
    "print(set(B_powerset))"
   ]
  },
  {
   "cell_type": "code",
   "execution_count": 6,
   "metadata": {
    "collapsed": false
   },
   "outputs": [
    {
     "name": "stdout",
     "output_type": "stream",
     "text": [
      "64\n"
     ]
    }
   ],
   "source": [
    "#P8\n",
    "A = Set([0, 1, 2, 5, 6, 9])\n",
    "A_powerset = list(powerset(A))\n",
    "cardinality_A = len(A_powerset)\n",
    "print(cardinality_A)"
   ]
  },
  {
   "cell_type": "code",
   "execution_count": 4,
   "metadata": {
    "collapsed": false
   },
   "outputs": [
    {
     "name": "stdout",
     "output_type": "stream",
     "text": [
      "2048\n"
     ]
    }
   ],
   "source": [
    "#P9\n",
    "B = Set(['a', 'e', 'i', 'o', 'u', 0, 1, 2, 3, 4, 5])\n",
    "B_powerset = list(powerset(B))\n",
    "cardinality_B = len(B_powerset)\n",
    "print(cardinality_B)"
   ]
  },
  {
   "cell_type": "code",
   "execution_count": 0,
   "metadata": {
    "collapsed": false
   },
   "outputs": [
   ],
   "source": [
   ]
  },
  {
   "cell_type": "code",
   "execution_count": 0,
   "metadata": {
    "collapsed": false
   },
   "outputs": [
   ],
   "source": [
   ]
  },
  {
   "cell_type": "code",
   "execution_count": 0,
   "metadata": {
    "collapsed": false
   },
   "outputs": [
   ],
   "source": [
   ]
  },
  {
   "cell_type": "code",
   "execution_count": 0,
   "metadata": {
    "collapsed": false
   },
   "outputs": [
   ],
   "source": [
   ]
  }
 ],
 "metadata": {
  "kernelspec": {
   "argv": [
    "sage-10.3",
    "--python",
    "-m",
    "sage.repl.ipython_kernel",
    "--matplotlib=inline",
    "-f",
    "{connection_file}"
   ],
   "display_name": "SageMath 10.3",
   "env": {
   },
   "language": "sagemath",
   "metadata": {
    "cocalc": {
     "description": "Open-source mathematical software system",
     "priority": 10,
     "url": "https://www.sagemath.org/"
    }
   },
   "name": "sage-10.3",
   "resource_dir": "/ext/jupyter/kernels/sage-10.3"
  },
  "language_info": {
   "codemirror_mode": {
    "name": "ipython",
    "version": 3
   },
   "file_extension": ".py",
   "mimetype": "text/x-python",
   "name": "python",
   "nbconvert_exporter": "python",
   "pygments_lexer": "ipython3",
   "version": "3.11.1"
  }
 },
 "nbformat": 4,
 "nbformat_minor": 4
}