{
 "metadata": {
  "kernelspec": {
   "display_name": "SageMath",
   "language": "python",
   "name": "sagemath"
  },
  "language_info": {
   "codemirror_mode": {
    "name": "ipython",
    "version": 2
   },
   "file_extension": ".py",
   "mimetype": "text/x-python",
   "name": "python",
   "nbconvert_exporter": "python",
   "pygments_lexer": "ipython2",
   "version": "2.7.12+"
  }
 },
 "nbformat": 4,
 "nbformat_minor": 4,
 "cells": [
  {
   "metadata": {
    "collapsed": false
   },
   "cell_type": "code",
   "source": [
    "#P1\n",
    "A = propcalc.formula('a&b')\n",
    "t1 = A.truthtable()\n",
    "print(t1)\n",
    "A.is_tautology()"
   ]
  },
  {
   "metadata": {
    "collapsed": false
   },
   "cell_type": "code",
   "source": [
    "#P2\n",
    "B = propcalc.formula('a|b')\n",
    "t2 = B.truthtable()\n",
    "print(t2)\n",
    "B.is_tautology()"
   ]
  },
  {
   "metadata": {
    "collapsed": false
   },
   "cell_type": "code",
   "source": [
    "#P3\n",
    "C = propcalc.formula('a | ~b')\n",
    "t3 = C.truthtable()\n",
    "print(t3)\n",
    "C.is_tautology()"
   ]
  },
  {
   "metadata": {
    "collapsed": false
   },
   "cell_type": "code",
   "source": [
    "#P4\n",
    "D = propcalc.formula('a -> ~b')\n",
    "t4 = D.truthtable()\n",
    "print(t4)\n",
    "D.is_tautology()"
   ]
  },
  {
   "metadata": {
    "collapsed": false
   },
   "cell_type": "code",
   "source": [
    "#P5\n",
    "E = propcalc.formula('(a & c) -> ((~a | ~b) -> c)')\n",
    "t5 = E.truthtable()\n",
    "print(t5)\n",
    "E.is_tautology()"
   ]
  },
  {
   "metadata": {
    "collapsed": false
   },
   "cell_type": "code",
   "source": [
    "#P6\n",
    "F = propcalc.formula('~(a | b) <-> (~a & ~b)')\n",
    "t6 = F.truthtable()\n",
    "print(t6)\n",
    "F.is_tautology()"
   ]
  }
 ]
}